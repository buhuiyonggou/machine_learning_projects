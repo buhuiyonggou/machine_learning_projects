{
  "nbformat": 4,
  "nbformat_minor": 0,
  "metadata": {
    "colab": {
      "provenance": [],
      "gpuType": "T4"
    },
    "kernelspec": {
      "name": "python3",
      "display_name": "Python 3"
    },
    "language_info": {
      "name": "python"
    },
    "accelerator": "GPU"
  },
  "cells": [
    {
      "cell_type": "code",
      "execution_count": null,
      "metadata": {
        "colab": {
          "base_uri": "https://localhost:8080/"
        },
        "id": "cdqlklSzxviP",
        "outputId": "b0628f14-d833-422d-a240-31887e9753df"
      },
      "outputs": [
        {
          "output_type": "stream",
          "name": "stdout",
          "text": [
            "/usr/local/lib/python3.10/dist-packages/gdown/__main__.py:132: FutureWarning: Option `--id` was deprecated in version 4.3.1 and will be removed in 5.0. You don't need to pass it anymore to use a file ID.\n",
            "  warnings.warn(\n",
            "Downloading...\n",
            "From (original): https://drive.google.com/uc?id=1HPkcmQmFGu-3OknddKIa5dNDsR05lIQR\n",
            "From (redirected): https://drive.google.com/uc?id=1HPkcmQmFGu-3OknddKIa5dNDsR05lIQR&confirm=t&uuid=ef29ec91-3580-4648-a18c-2cc728b32cf8\n",
            "To: /content/data.zip\n",
            "100% 372M/372M [00:11<00:00, 32.1MB/s]\n",
            "Archive:  data.zip\n",
            "   creating: timit_11/\n",
            "  inflating: timit_11/train_11.npy   \n",
            "  inflating: timit_11/test_11.npy    \n",
            "  inflating: timit_11/train_label_11.npy  \n",
            "data.zip  sample_data  timit_11\n"
          ]
        }
      ],
      "source": [
        "!gdown --id '1HPkcmQmFGu-3OknddKIa5dNDsR05lIQR' --output data.zip\n",
        "!unzip data.zip\n",
        "!ls"
      ]
    },
    {
      "cell_type": "code",
      "source": [
        "import numpy as np\n",
        "\n",
        "print('Loading data ...')\n",
        "\n",
        "data_root='./timit_11/'\n",
        "train = np.load(data_root + 'train_11.npy')\n",
        "train_label = np.load(data_root + 'train_label_11.npy')\n",
        "test = np.load(data_root + 'test_11.npy')\n",
        "\n",
        "print('Size of training data: {}'.format(train.shape))\n",
        "print('Size of testing data: {}'.format(test.shape))"
      ],
      "metadata": {
        "colab": {
          "base_uri": "https://localhost:8080/"
        },
        "id": "cKBoQiupxy_X",
        "outputId": "c08c9c03-de9e-439d-debb-151c8fe227fb"
      },
      "execution_count": null,
      "outputs": [
        {
          "output_type": "stream",
          "name": "stdout",
          "text": [
            "Loading data ...\n",
            "Size of training data: (1229932, 429)\n",
            "Size of testing data: (451552, 429)\n"
          ]
        }
      ]
    },
    {
      "cell_type": "code",
      "source": [
        "import torch\n",
        "from torch.utils.data import Dataset\n",
        "\n",
        "class TIMITDataset(Dataset):\n",
        "    def __init__(self, X, y=None):\n",
        "        self.data = torch.from_numpy(X).float()\n",
        "        if y is not None:\n",
        "            y = y.astype(np.int64)\n",
        "            self.label = torch.LongTensor(y)\n",
        "        else:\n",
        "            self.label = None\n",
        "\n",
        "    def __getitem__(self, idx):\n",
        "        if self.label is not None:\n",
        "            return self.data[idx], self.label[idx]\n",
        "        else:\n",
        "            return self.data[idx]\n",
        "\n",
        "    def __len__(self):\n",
        "        return len(self.data)"
      ],
      "metadata": {
        "id": "izLeVq5cygEl"
      },
      "execution_count": null,
      "outputs": []
    },
    {
      "cell_type": "markdown",
      "source": [
        "Split the labeled data into a training set and a validation set, you can modify the variable VAL_RATIO to change the ratio of validation data."
      ],
      "metadata": {
        "id": "qHsuN_SozHnE"
      }
    },
    {
      "cell_type": "code",
      "source": [
        "VAL_RATIO = 0.2\n",
        "\n",
        "percent = int(train.shape[0] * (1 - VAL_RATIO))\n",
        "train_x, train_y, val_x, val_y = train[:percent], train_label[:percent], train[percent:], train_label[percent:]\n",
        "print('Size of training set: {}'.format(train_x.shape))\n",
        "print('Size of validation set: {}'.format(val_x.shape))"
      ],
      "metadata": {
        "colab": {
          "base_uri": "https://localhost:8080/"
        },
        "id": "OIqiZ-0vzJSV",
        "outputId": "e16a28d2-1d4a-431c-bedb-635c0727c19b"
      },
      "execution_count": null,
      "outputs": [
        {
          "output_type": "stream",
          "name": "stdout",
          "text": [
            "Size of training set: (983945, 429)\n",
            "Size of validation set: (245987, 429)\n"
          ]
        }
      ]
    },
    {
      "cell_type": "code",
      "source": [
        "#Create a data loader from the dataset, feel free to tweak the variable BATCH_SIZE here.\n",
        "BATCH_SIZE = 64\n",
        "\n",
        "from torch.utils.data import DataLoader\n",
        "\n",
        "train_set = TIMITDataset(train_x, train_y)\n",
        "val_set = TIMITDataset(val_x, val_y)\n",
        "train_loader = DataLoader(train_set, batch_size=BATCH_SIZE, shuffle=True) #only shuffle the training data\n",
        "val_loader = DataLoader(val_set, batch_size=BATCH_SIZE, shuffle=False)"
      ],
      "metadata": {
        "id": "mYBdau-AzjLB"
      },
      "execution_count": null,
      "outputs": []
    },
    {
      "cell_type": "markdown",
      "source": [
        "Cleanup the unneeded variables to save memory.\n",
        "\n",
        "**notes: To use these variables later, then remove this block or clean up unneeded variables later\n",
        "the data size is quite huge, so be aware of memory usage in colab**"
      ],
      "metadata": {
        "id": "xzIkYgKT2SOe"
      }
    },
    {
      "cell_type": "code",
      "source": [
        "import gc\n",
        "\n",
        "del train, train_label, train_x, train_y, val_x, val_y\n",
        "gc.collect()"
      ],
      "metadata": {
        "colab": {
          "base_uri": "https://localhost:8080/"
        },
        "id": "Mj3w2Yuq2Om-",
        "outputId": "a8c28a27-d083-4843-9108-2c9755be5a3b"
      },
      "execution_count": null,
      "outputs": [
        {
          "output_type": "execute_result",
          "data": {
            "text/plain": [
              "0"
            ]
          },
          "metadata": {},
          "execution_count": 6
        }
      ]
    },
    {
      "cell_type": "code",
      "source": [
        "import torch\n",
        "import torch.nn as nn\n",
        "import torch.nn.functional as F\n",
        "\n",
        "class Classifier(nn.Module):\n",
        "    def __init__(self):\n",
        "        super(Classifier, self).__init__()\n",
        "        # Define the linear layers\n",
        "        self.layer1 = nn.Linear(429, 1024)\n",
        "        self.layer2 = nn.Linear(1024, 512)\n",
        "        self.layer3 = nn.Linear(512, 128)\n",
        "        self.out = nn.Linear(128, 39)\n",
        "\n",
        "        # Define BatchNorm layers for each layer output\n",
        "        self.bn1 = nn.BatchNorm1d(1024)\n",
        "        self.bn2 = nn.BatchNorm1d(512)\n",
        "        self.bn3 = nn.BatchNorm1d(128)\n",
        "\n",
        "        # Define Dropout layers\n",
        "        self.dropout1 = nn.Dropout(0.5)\n",
        "        self.dropout2 = nn.Dropout(0.5)\n",
        "        self.dropout3 = nn.Dropout(0.5)\n",
        "\n",
        "        self.act_fn = nn.Sigmoid()\n",
        "\n",
        "    def forward(self, x):\n",
        "        # x = self.layer1(x)\n",
        "        # x = self.act_fn(x)\n",
        "\n",
        "        # x = self.layer2(x)\n",
        "        # x = self.act_fn(x)\n",
        "\n",
        "        # x = self.layer3(x)\n",
        "        # x = self.act_fn(x)\n",
        "\n",
        "        # x = self.out(x)\n",
        "        # Pass data through layer 1 with BatchNorm and Dropout\n",
        "        x = self.layer1(x)\n",
        "        x = self.bn1(x)\n",
        "        x = self.act_fn(x)\n",
        "        x = self.dropout1(x)\n",
        "\n",
        "        # Pass data through layer 2 with BatchNorm and Dropout\n",
        "        x = self.layer2(x)\n",
        "        x = self.bn2(x)\n",
        "        x = self.act_fn(x)\n",
        "        x = self.dropout2(x)\n",
        "\n",
        "        # Pass data through layer 3 with BatchNorm and Dropout\n",
        "        x = self.layer3(x)\n",
        "        x = self.bn3(x)\n",
        "        x = self.act_fn(x)\n",
        "        x = self.dropout3(x)\n",
        "\n",
        "        # Output layer\n",
        "        x = self.out(x)\n",
        "\n",
        "        return x"
      ],
      "metadata": {
        "id": "2jPqJsTG2qxk"
      },
      "execution_count": null,
      "outputs": []
    },
    {
      "cell_type": "code",
      "source": [
        "class DeeperClassifier(nn.Module):\n",
        "    def __init__(self):\n",
        "        super(DeeperClassifier, self).__init__()\n",
        "        self.layers = nn.ModuleList([\n",
        "            nn.Linear(429, 1024),\n",
        "            nn.Linear(1024, 1024),\n",
        "            nn.Linear(1024, 1024),\n",
        "            nn.Linear(1024, 1024),\n",
        "            nn.Linear(1024, 1024),\n",
        "            nn.Linear(1024, 1024)\n",
        "        ])\n",
        "        self.bns = nn.ModuleList([nn.BatchNorm1d(1024) for _ in range(6)])\n",
        "        self.dropout = nn.Dropout(0.25)\n",
        "        self.out = nn.Linear(1024, 39)\n",
        "\n",
        "    def forward(self, x):\n",
        "        for i in range(6):\n",
        "            x = self.layers[i](x)\n",
        "            x = self.bns[i](x)\n",
        "            # x = F.relu(x)\n",
        "            # use sigmoid instead of relu\n",
        "            x = F.sigmoid(x)\n",
        "            x = self.dropout(x)\n",
        "        x = self.out(x)\n",
        "        return x"
      ],
      "metadata": {
        "id": "vorLIjl3WSDs"
      },
      "execution_count": null,
      "outputs": []
    },
    {
      "cell_type": "code",
      "source": [
        "class ShallowerClassifier(nn.Module):\n",
        "    def __init__(self):\n",
        "        super(ShallowerClassifier, self).__init__()\n",
        "        # Initialize fewer layers with more neurons\n",
        "        self.layer1 = nn.Linear(429, 1700)\n",
        "        self.layer2 = nn.Linear(1700, 1700)\n",
        "        self.out = nn.Linear(1700, 39)\n",
        "\n",
        "        self.bn1 = nn.BatchNorm1d(1700)\n",
        "        self.bn2 = nn.BatchNorm1d(1700)\n",
        "        # modify dropout to 0.25\n",
        "        self.dropout = nn.Dropout(0.25)\n",
        "\n",
        "    def forward(self, x):\n",
        "        x = self.layer1(x)\n",
        "        x = self.bn1(x)\n",
        "        x = F.relu(x)\n",
        "        x = self.dropout(x)\n",
        "\n",
        "        x = self.layer2(x)\n",
        "        x = self.bn2(x)\n",
        "        x = F.relu(x)\n",
        "        x = self.dropout(x)\n",
        "\n",
        "        x = self.out(x)\n",
        "        return x"
      ],
      "metadata": {
        "id": "74vsAfOWWcC_"
      },
      "execution_count": null,
      "outputs": []
    },
    {
      "cell_type": "code",
      "source": [
        "#check device\n",
        "def get_device():\n",
        "  return 'cuda' if torch.cuda.is_available() else 'cpu'"
      ],
      "metadata": {
        "id": "ls_KnNMA3Vls"
      },
      "execution_count": null,
      "outputs": []
    },
    {
      "cell_type": "code",
      "source": [
        "# Fix random seeds for reproducibility.\n",
        "def same_seeds(seed):\n",
        "    torch.manual_seed(seed)\n",
        "    if torch.cuda.is_available():\n",
        "        torch.cuda.manual_seed(seed)\n",
        "        torch.cuda.manual_seed_all(seed)\n",
        "    np.random.seed(seed)\n",
        "    torch.backends.cudnn.benchmark = False\n",
        "    torch.backends.cudnn.deterministic = True"
      ],
      "metadata": {
        "id": "aJQBbTrj3bN0"
      },
      "execution_count": null,
      "outputs": []
    },
    {
      "cell_type": "markdown",
      "source": [
        "Feel free to change the training parameters here."
      ],
      "metadata": {
        "id": "ONrrEi7n30-P"
      }
    },
    {
      "cell_type": "code",
      "source": [
        "# fix random seed for reproducibility\n",
        "same_seeds(0)\n",
        "\n",
        "# get device\n",
        "device = get_device()\n",
        "print(f'DEVICE: {device}')\n",
        "\n",
        "# training parameters\n",
        "num_epoch = 20\n",
        "learning_rate = 0.0001\n",
        "\n",
        "# the path where checkpoint saved\n",
        "model_path = './model.ckpt'\n",
        "\n",
        "# create model, define a loss function, and optimizer\n",
        "# model = Classifier().to(device)\n",
        "model = DeeperClassifier().to(device)\n",
        "# model = ShallowerClassifier().to(device)\n",
        "criterion = nn.CrossEntropyLoss()\n",
        "optimizer = torch.optim.Adam(model.parameters(), lr=learning_rate)"
      ],
      "metadata": {
        "colab": {
          "base_uri": "https://localhost:8080/"
        },
        "id": "dOQuS5q83tDe",
        "outputId": "a86e8f29-8a6f-4e10-92f5-8ba6437a9c05"
      },
      "execution_count": null,
      "outputs": [
        {
          "output_type": "stream",
          "name": "stdout",
          "text": [
            "DEVICE: cuda\n"
          ]
        }
      ]
    },
    {
      "cell_type": "code",
      "source": [
        "# For plotting\n",
        "import matplotlib.pyplot as plt\n",
        "from matplotlib.pyplot import figure\n",
        "from sklearn.metrics import confusion_matrix\n",
        "import seaborn as sns\n",
        "\n",
        "def plot_learning_curve(loss_record: dict, title=''):\n",
        "    ''' Plot learning curve of your DNN (train & dev loss) '''\n",
        "    total_steps = len(loss_record['train'])\n",
        "    x_1 = range(total_steps)\n",
        "    x_2 = x_1[::len(loss_record['train']) // len(loss_record['dev'])]\n",
        "    figure(figsize=(6, 4))\n",
        "    plt.plot(x_1, loss_record['train'], c='tab:red', label='train')\n",
        "    plt.plot(x_2, loss_record['dev'], c='tab:cyan', label='dev')\n",
        "    plt.ylim(0.0, 3.)\n",
        "    plt.xlabel('Training steps')\n",
        "    plt.ylabel('CrossEntropyLoss loss')\n",
        "    plt.title('Learning curve of {}'.format(title))\n",
        "    plt.legend()\n",
        "    plt.show()\n",
        "\n",
        "\n",
        "def plot_pred(validation_set, model, device):\n",
        "    ''' Plot classification accuracy using a confusion matrix '''\n",
        "    model.eval()\n",
        "    all_preds, all_targets = [], []\n",
        "    # Collect all predictions and targets\n",
        "    for x, y in validation_set:\n",
        "        x, y = x.to(device), y.to(device)\n",
        "        with torch.no_grad():\n",
        "            outputs = model(x)\n",
        "            _, pred = torch.max(outputs, 1)  # Get the index of the max log-probability\n",
        "            all_preds.extend(pred.detach().cpu().numpy())\n",
        "            all_targets.extend(y.detach().cpu().numpy())\n",
        "\n",
        "    # Compute the confusion matrix\n",
        "    cm = confusion_matrix(all_targets, all_preds)\n",
        "    # Plotting using seaborn or matplotlib\n",
        "    plt.figure(figsize=(10, 7))\n",
        "    sns.heatmap(cm, annot=True, fmt='d', cmap='Blues', xticklabels=True, yticklabels=True)\n",
        "    plt.xlabel('Predicted labels')\n",
        "    plt.ylabel('True labels')\n",
        "    plt.title('Confusion Matrix')\n",
        "    plt.show()"
      ],
      "metadata": {
        "id": "BenolFsMX5tQ"
      },
      "execution_count": null,
      "outputs": []
    },
    {
      "cell_type": "code",
      "source": [
        "# start training\n",
        "\n",
        "loss_record = {'train': [], 'dev': []}\n",
        "acc_record = {'train': [], 'dev': []}\n",
        "\n",
        "best_acc = 0.0\n",
        "for epoch in range(num_epoch):\n",
        "    train_acc = 0.0\n",
        "    train_loss = 0.0\n",
        "    val_acc = 0.0\n",
        "    val_loss = 0.0\n",
        "    num_train_samples = 0\n",
        "    num_val_samples = 0\n",
        "\n",
        "    # training\n",
        "    model.train()\n",
        "    for i, data in enumerate(train_loader):\n",
        "        inputs, labels = data\n",
        "        inputs, labels = inputs.to(device), labels.to(device)\n",
        "\n",
        "        optimizer.zero_grad()\n",
        "        outputs = model(inputs)\n",
        "        batch_loss = criterion(outputs, labels)\n",
        "        _, train_pred = torch.max(outputs, 1) # get the index of the class with the highest probability\n",
        "        # print(\"train_pred: \", train_pred)\n",
        "        batch_loss.backward()\n",
        "        optimizer.step()\n",
        "\n",
        "        train_acc += (train_pred.cpu() == labels.cpu()).sum().item()\n",
        "        train_loss += batch_loss.item()\n",
        "        num_train_samples += labels.size(0)\n",
        "\n",
        "    # Store training loss and accuracy\n",
        "    loss_record['train'].append(train_loss / len(train_loader))\n",
        "    acc_record['train'].append(train_acc / num_train_samples)\n",
        "\n",
        "    # validation\n",
        "    if len(val_set) > 0:\n",
        "        model.eval() # set the model to evaluation mode\n",
        "        with torch.no_grad():\n",
        "            for i, data in enumerate(val_loader):\n",
        "                inputs, labels = data\n",
        "                inputs, labels = inputs.to(device), labels.to(device)\n",
        "                outputs = model(inputs)\n",
        "                batch_loss = criterion(outputs, labels)\n",
        "                _, val_pred = torch.max(outputs, 1) # get the index of the class with the highest probability\n",
        "\n",
        "                val_acc += (val_pred.cpu() == labels.cpu()).sum().item()\n",
        "                val_loss += batch_loss.item()\n",
        "                num_val_samples += labels.size(0)\n",
        "            # Store validation loss and accuracy\n",
        "            loss_record['dev'].append(val_loss / len(val_loader))\n",
        "            acc_record['dev'].append(val_acc / num_val_samples)\n",
        "\n",
        "            print('[{:03d}/{:03d}] Train Acc: {:3.6f} Loss: {:3.6f} | Val Acc: {:3.6f} Loss: {:3.6f}'.format(\n",
        "            epoch + 1, num_epoch, train_acc / num_train_samples, train_loss / len(train_loader),\n",
        "            val_acc / num_val_samples, val_loss / len(val_loader)\n",
        "        ))\n",
        "\n",
        "            # if the model improves, save a checkpoint at this epoch\n",
        "            if val_acc > best_acc:\n",
        "              best_acc = val_acc\n",
        "              torch.save(model.state_dict(), model_path)\n",
        "              print('saving model with acc {:.3f}'.format(best_acc / num_val_samples))\n",
        "    else:\n",
        "        print('[{:03d}/{:03d}] Train Acc: {:3.6f} Loss: {:3.6f}'.format(\n",
        "            epoch + 1, num_epoch, train_acc/len(train_set), train_loss/len(train_loader)\n",
        "        ))\n",
        "\n",
        "# if not validating, save the last epoch\n",
        "if len(val_set) == 0:\n",
        "    torch.save(model.state_dict(), model_path)\n",
        "    print('saving model at last epoch')"
      ],
      "metadata": {
        "id": "RzIbT85y_GTI",
        "colab": {
          "base_uri": "https://localhost:8080/"
        },
        "outputId": "05eb2792-3f17-48a4-c002-585d9cd68ae8"
      },
      "execution_count": null,
      "outputs": [
        {
          "output_type": "stream",
          "name": "stdout",
          "text": [
            "[001/020] Train Acc: 0.416317 Loss: 1.964163 | Val Acc: 0.494364 Loss: 1.655335\n",
            "saving model with acc 0.494\n",
            "[002/020] Train Acc: 0.464800 Loss: 1.775907 | Val Acc: 0.534935 Loss: 1.520232\n",
            "saving model with acc 0.535\n",
            "[003/020] Train Acc: 0.497791 Loss: 1.661134 | Val Acc: 0.577575 Loss: 1.384919\n",
            "saving model with acc 0.578\n",
            "[004/020] Train Acc: 0.527684 Loss: 1.554582 | Val Acc: 0.612069 Loss: 1.269793\n",
            "saving model with acc 0.612\n",
            "[005/020] Train Acc: 0.552218 Loss: 1.466526 | Val Acc: 0.633635 Loss: 1.188204\n",
            "saving model with acc 0.634\n",
            "[006/020] Train Acc: 0.571070 Loss: 1.396420 | Val Acc: 0.650892 Loss: 1.124950\n",
            "saving model with acc 0.651\n",
            "[007/020] Train Acc: 0.586835 Loss: 1.338701 | Val Acc: 0.662982 Loss: 1.079281\n",
            "saving model with acc 0.663\n",
            "[008/020] Train Acc: 0.599768 Loss: 1.291609 | Val Acc: 0.672340 Loss: 1.040693\n",
            "saving model with acc 0.672\n",
            "[009/020] Train Acc: 0.611126 Loss: 1.250518 | Val Acc: 0.680077 Loss: 1.012039\n",
            "saving model with acc 0.680\n",
            "[010/020] Train Acc: 0.619890 Loss: 1.217422 | Val Acc: 0.688683 Loss: 0.980411\n",
            "saving model with acc 0.689\n",
            "[011/020] Train Acc: 0.628422 Loss: 1.184504 | Val Acc: 0.689512 Loss: 0.964776\n",
            "saving model with acc 0.690\n",
            "[012/020] Train Acc: 0.635620 Loss: 1.158818 | Val Acc: 0.696451 Loss: 0.941722\n",
            "saving model with acc 0.696\n",
            "[013/020] Train Acc: 0.642459 Loss: 1.133881 | Val Acc: 0.702809 Loss: 0.919683\n",
            "saving model with acc 0.703\n",
            "[014/020] Train Acc: 0.648349 Loss: 1.110531 | Val Acc: 0.707842 Loss: 0.899938\n",
            "saving model with acc 0.708\n",
            "[015/020] Train Acc: 0.653768 Loss: 1.091766 | Val Acc: 0.712070 Loss: 0.886447\n",
            "saving model with acc 0.712\n",
            "[016/020] Train Acc: 0.658878 Loss: 1.072630 | Val Acc: 0.715249 Loss: 0.873014\n",
            "saving model with acc 0.715\n",
            "[017/020] Train Acc: 0.662795 Loss: 1.055766 | Val Acc: 0.717070 Loss: 0.868203\n",
            "saving model with acc 0.717\n",
            "[018/020] Train Acc: 0.666643 Loss: 1.041924 | Val Acc: 0.720436 Loss: 0.851983\n",
            "saving model with acc 0.720\n",
            "[019/020] Train Acc: 0.670747 Loss: 1.027005 | Val Acc: 0.721249 Loss: 0.848332\n",
            "saving model with acc 0.721\n",
            "[020/020] Train Acc: 0.674760 Loss: 1.011838 | Val Acc: 0.723494 Loss: 0.838181\n",
            "saving model with acc 0.723\n"
          ]
        }
      ]
    },
    {
      "cell_type": "code",
      "source": [
        "plot_learning_curve(loss_record, title='Model Performance')"
      ],
      "metadata": {
        "colab": {
          "base_uri": "https://localhost:8080/",
          "height": 410
        },
        "id": "jjsZ6Ts0b0Re",
        "outputId": "dceb26f8-ba2f-47fe-8fd8-818e843462da"
      },
      "execution_count": null,
      "outputs": [
        {
          "output_type": "display_data",
          "data": {
            "text/plain": [
              "<Figure size 600x400 with 1 Axes>"
            ],
            "image/png": "[encoded data removed]"
          },
          "metadata": {}
        }
      ]
    },
    {
      "cell_type": "markdown",
      "source": [
        "**Testing**\n",
        "\n",
        "Create a testing dataset, and load model from the saved checkpoint."
      ],
      "metadata": {
        "id": "yOPIRr-RFcta"
      }
    },
    {
      "cell_type": "code",
      "source": [
        "# create testing dataset\n",
        "test_set = TIMITDataset(test, None)\n",
        "test_loader = DataLoader(test_set, batch_size=BATCH_SIZE, shuffle=False)\n",
        "\n",
        "# create model and load weights from checkpoint\n",
        "model = DeeperClassifier().to(device)\n",
        "# model = ShallowerClassifier().to(device)\n",
        "model.load_state_dict(torch.load(model_path))"
      ],
      "metadata": {
        "colab": {
          "base_uri": "https://localhost:8080/"
        },
        "id": "97OqU-VvFajp",
        "outputId": "e8180cfc-e051-49a5-dd9f-19aeb3257e54"
      },
      "execution_count": null,
      "outputs": [
        {
          "output_type": "execute_result",
          "data": {
            "text/plain": [
              "<All keys matched successfully>"
            ]
          },
          "metadata": {},
          "execution_count": 16
        }
      ]
    },
    {
      "cell_type": "code",
      "source": [
        "predict = []\n",
        "model.eval() # set the model to evaluation mode\n",
        "with torch.no_grad():\n",
        "    for i, data in enumerate(test_loader):\n",
        "        inputs = data\n",
        "        inputs = inputs.to(device)\n",
        "        outputs = model(inputs)\n",
        "        _, test_pred = torch.max(outputs, 1) # get the index of the class with the highest probability\n",
        "\n",
        "        for y in test_pred.cpu().numpy():\n",
        "            predict.append(y)"
      ],
      "metadata": {
        "id": "CmGB7oQrFtVw"
      },
      "execution_count": null,
      "outputs": []
    },
    {
      "cell_type": "markdown",
      "source": [
        "Write prediction to a CSV file.\n",
        "\n",
        "After finish running this block, download the file prediction.csv from the files section on the left-hand side and submit it to Kaggle."
      ],
      "metadata": {
        "id": "I4sOt8c5F6v2"
      }
    },
    {
      "cell_type": "code",
      "source": [
        "with open('prediction.csv', 'w') as f:\n",
        "    f.write('Id,Class\\n')\n",
        "    for i, y in enumerate(predict):\n",
        "        f.write('{},{}\\n'.format(i, y))"
      ],
      "metadata": {
        "id": "zMAKXc3LFyT9"
      },
      "execution_count": null,
      "outputs": []
    }
  ]
}
